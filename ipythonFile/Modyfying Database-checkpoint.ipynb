{
 "cells": [
  {
   "cell_type": "code",
   "execution_count": 2,
   "metadata": {
    "collapsed": false
   },
   "outputs": [
    {
     "data": {
      "text/html": [
       "<div>\n",
       "<table border=\"1\" class=\"dataframe\">\n",
       "  <thead>\n",
       "    <tr style=\"text-align: right;\">\n",
       "      <th></th>\n",
       "      <th>id</th>\n",
       "      <th>date</th>\n",
       "      <th>time</th>\n",
       "      <th>country</th>\n",
       "      <th>nearest_places</th>\n",
       "      <th>hazard_type</th>\n",
       "      <th>landslide_type</th>\n",
       "      <th>trigger</th>\n",
       "      <th>storm_name</th>\n",
       "      <th>fatalities</th>\n",
       "      <th>...</th>\n",
       "      <th>population</th>\n",
       "      <th>countrycode</th>\n",
       "      <th>continentcode</th>\n",
       "      <th>key</th>\n",
       "      <th>version</th>\n",
       "      <th>tstamp</th>\n",
       "      <th>changeset_id</th>\n",
       "      <th>latitude</th>\n",
       "      <th>longitude</th>\n",
       "      <th>geolocation</th>\n",
       "    </tr>\n",
       "  </thead>\n",
       "  <tbody>\n",
       "    <tr>\n",
       "      <th>0</th>\n",
       "      <td>1</td>\n",
       "      <td>01/02/2007</td>\n",
       "      <td>NaN</td>\n",
       "      <td>United Kingdom</td>\n",
       "      <td>Whitehaven, Cumbria</td>\n",
       "      <td>landslide</td>\n",
       "      <td>Landslide</td>\n",
       "      <td>Rain</td>\n",
       "      <td>NaN</td>\n",
       "      <td>1.0</td>\n",
       "      <td>...</td>\n",
       "      <td>24803.0</td>\n",
       "      <td>GB</td>\n",
       "      <td>EU</td>\n",
       "      <td>sGaiIKdcW</td>\n",
       "      <td>1.0</td>\n",
       "      <td>Tue Apr 01 2014 00:00:00 GMT+0000 (UTC)</td>\n",
       "      <td>1.0</td>\n",
       "      <td>54.549400</td>\n",
       "      <td>-3.587500</td>\n",
       "      <td>(54.549399999999999, -3.5874999999999999)</td>\n",
       "    </tr>\n",
       "    <tr>\n",
       "      <th>1</th>\n",
       "      <td>2</td>\n",
       "      <td>01/03/2007</td>\n",
       "      <td>NaN</td>\n",
       "      <td>Peru</td>\n",
       "      <td>Alto Mesapata, in the Pasco province</td>\n",
       "      <td>landslide</td>\n",
       "      <td>Complex</td>\n",
       "      <td>Rain</td>\n",
       "      <td>NaN</td>\n",
       "      <td>NaN</td>\n",
       "      <td>...</td>\n",
       "      <td>0.0</td>\n",
       "      <td>PE</td>\n",
       "      <td>SA</td>\n",
       "      <td>S95OsumK4</td>\n",
       "      <td>1.0</td>\n",
       "      <td>Tue Apr 01 2014 00:00:00 GMT+0000 (UTC)</td>\n",
       "      <td>1.0</td>\n",
       "      <td>-10.383800</td>\n",
       "      <td>-75.426700</td>\n",
       "      <td>(-10.383800000000001, -75.426699999999997)</td>\n",
       "    </tr>\n",
       "    <tr>\n",
       "      <th>2</th>\n",
       "      <td>3</td>\n",
       "      <td>01/05/2007</td>\n",
       "      <td>NaN</td>\n",
       "      <td>Brazil</td>\n",
       "      <td>Nova Friburgo, Rio de Janeiro</td>\n",
       "      <td>landslide</td>\n",
       "      <td>Landslide</td>\n",
       "      <td>Rain</td>\n",
       "      <td>NaN</td>\n",
       "      <td>7.0</td>\n",
       "      <td>...</td>\n",
       "      <td>153361.0</td>\n",
       "      <td>BR</td>\n",
       "      <td>SA</td>\n",
       "      <td>D5vlNdgB7</td>\n",
       "      <td>1.0</td>\n",
       "      <td>Tue Apr 01 2014 00:00:00 GMT+0000 (UTC)</td>\n",
       "      <td>1.0</td>\n",
       "      <td>-22.282346</td>\n",
       "      <td>-42.536362</td>\n",
       "      <td>(-22.282346350000001, -42.536362050000001)</td>\n",
       "    </tr>\n",
       "    <tr>\n",
       "      <th>3</th>\n",
       "      <td>4</td>\n",
       "      <td>01/05/2007</td>\n",
       "      <td>NaN</td>\n",
       "      <td>Brazil</td>\n",
       "      <td>Sumidouro, Rio de Janeiro</td>\n",
       "      <td>landslide</td>\n",
       "      <td>Landslide</td>\n",
       "      <td>Rain</td>\n",
       "      <td>NaN</td>\n",
       "      <td>2.0</td>\n",
       "      <td>...</td>\n",
       "      <td>11555.0</td>\n",
       "      <td>BR</td>\n",
       "      <td>SA</td>\n",
       "      <td>h5J8IFdc4</td>\n",
       "      <td>1.0</td>\n",
       "      <td>Tue Apr 01 2014 00:00:00 GMT+0000 (UTC)</td>\n",
       "      <td>1.0</td>\n",
       "      <td>-22.045200</td>\n",
       "      <td>-42.673400</td>\n",
       "      <td>(-22.045200000000001, -42.673400000000001)</td>\n",
       "    </tr>\n",
       "    <tr>\n",
       "      <th>4</th>\n",
       "      <td>5</td>\n",
       "      <td>01/05/2007</td>\n",
       "      <td>NaN</td>\n",
       "      <td>Brazil</td>\n",
       "      <td>Jundiai, Sao Paulo</td>\n",
       "      <td>landslide</td>\n",
       "      <td>Landslide</td>\n",
       "      <td>Rain</td>\n",
       "      <td>NaN</td>\n",
       "      <td>1.0</td>\n",
       "      <td>...</td>\n",
       "      <td>54415.0</td>\n",
       "      <td>BR</td>\n",
       "      <td>SA</td>\n",
       "      <td>s5Zb5FdB4</td>\n",
       "      <td>1.0</td>\n",
       "      <td>Tue Apr 01 2014 00:00:00 GMT+0000 (UTC)</td>\n",
       "      <td>1.0</td>\n",
       "      <td>-23.231100</td>\n",
       "      <td>-46.613600</td>\n",
       "      <td>(-23.231100000000001, -46.613599999999998)</td>\n",
       "    </tr>\n",
       "  </tbody>\n",
       "</table>\n",
       "<p>5 rows × 34 columns</p>\n",
       "</div>"
      ],
      "text/plain": [
       "   id        date time         country                        nearest_places  \\\n",
       "0   1  01/02/2007  NaN  United Kingdom                   Whitehaven, Cumbria   \n",
       "1   2  01/03/2007  NaN            Peru  Alto Mesapata, in the Pasco province   \n",
       "2   3  01/05/2007  NaN          Brazil         Nova Friburgo, Rio de Janeiro   \n",
       "3   4  01/05/2007  NaN          Brazil             Sumidouro, Rio de Janeiro   \n",
       "4   5  01/05/2007  NaN          Brazil                    Jundiai, Sao Paulo   \n",
       "\n",
       "  hazard_type landslide_type trigger storm_name  fatalities  \\\n",
       "0   landslide      Landslide    Rain        NaN         1.0   \n",
       "1   landslide        Complex    Rain        NaN         NaN   \n",
       "2   landslide      Landslide    Rain        NaN         7.0   \n",
       "3   landslide      Landslide    Rain        NaN         2.0   \n",
       "4   landslide      Landslide    Rain        NaN         1.0   \n",
       "\n",
       "                      ...                      population countrycode  \\\n",
       "0                     ...                         24803.0          GB   \n",
       "1                     ...                             0.0          PE   \n",
       "2                     ...                        153361.0          BR   \n",
       "3                     ...                         11555.0          BR   \n",
       "4                     ...                         54415.0          BR   \n",
       "\n",
       "  continentcode        key version                                   tstamp  \\\n",
       "0            EU  sGaiIKdcW     1.0  Tue Apr 01 2014 00:00:00 GMT+0000 (UTC)   \n",
       "1            SA  S95OsumK4     1.0  Tue Apr 01 2014 00:00:00 GMT+0000 (UTC)   \n",
       "2            SA  D5vlNdgB7     1.0  Tue Apr 01 2014 00:00:00 GMT+0000 (UTC)   \n",
       "3            SA  h5J8IFdc4     1.0  Tue Apr 01 2014 00:00:00 GMT+0000 (UTC)   \n",
       "4            SA  s5Zb5FdB4     1.0  Tue Apr 01 2014 00:00:00 GMT+0000 (UTC)   \n",
       "\n",
       "  changeset_id   latitude  longitude  \\\n",
       "0          1.0  54.549400  -3.587500   \n",
       "1          1.0 -10.383800 -75.426700   \n",
       "2          1.0 -22.282346 -42.536362   \n",
       "3          1.0 -22.045200 -42.673400   \n",
       "4          1.0 -23.231100 -46.613600   \n",
       "\n",
       "                                  geolocation  \n",
       "0   (54.549399999999999, -3.5874999999999999)  \n",
       "1  (-10.383800000000001, -75.426699999999997)  \n",
       "2  (-22.282346350000001, -42.536362050000001)  \n",
       "3  (-22.045200000000001, -42.673400000000001)  \n",
       "4  (-23.231100000000001, -46.613599999999998)  \n",
       "\n",
       "[5 rows x 34 columns]"
      ]
     },
     "execution_count": 2,
     "metadata": {},
     "output_type": "execute_result"
    }
   ],
   "source": [
    "import numpy as np\n",
    "import pandas as pd\n",
    "import datetime\n",
    "import urllib\n",
    "import math\n",
    "import string\n",
    "import json\n",
    "\n",
    "store_data = pd.read_csv(\"global_landslides.csv\")\n",
    "#store_data = pd.read_json(\"global_landslides.json\")\n",
    "\n",
    "store_data.head()"
   ]
  },
  {
   "cell_type": "code",
   "execution_count": 3,
   "metadata": {
    "collapsed": true
   },
   "outputs": [],
   "source": [
    "# Building our GPS\n",
    "import geocoder \n",
    "import folium\n",
    "\n",
    "# Defining our GPS\n",
    "\n",
    "def getCordinates(address):\n",
    "    g = geocoder.google(address)\n",
    "    return g.lat, g.lng"
   ]
  },
  {
   "cell_type": "code",
   "execution_count": 4,
   "metadata": {
    "collapsed": false
   },
   "outputs": [
    {
     "name": "stdout",
     "output_type": "stream",
     "text": [
      "Enter a country: brazil\n"
     ]
    }
   ],
   "source": [
    "# Building our map\n",
    "import folium\n",
    "import json\n",
    "\n",
    "# Making a map with folium is straightforward:\n",
    "\n",
    "user_input = raw_input(\"Enter a country: \")\n",
    "\n",
    "x, y = getCordinates(user_input)\n",
    "\n",
    "landslide_map = folium.Map( tiles='Stamen Terrain',zoom_start = 6,location=[x, y])"
   ]
  },
  {
   "cell_type": "code",
   "execution_count": 9,
   "metadata": {
    "collapsed": false
   },
   "outputs": [
    {
     "data": {
      "text/plain": [
       "str"
      ]
     },
     "execution_count": 9,
     "metadata": {},
     "output_type": "execute_result"
    }
   ],
   "source": [
    "cityFilter = (store_data[\"country\"] == user_input)\n",
    "type(user_input)"
   ]
  },
  {
   "cell_type": "code",
   "execution_count": 10,
   "metadata": {
    "collapsed": true
   },
   "outputs": [],
   "source": [
    "filteredData = store_data[cityFilter]"
   ]
  },
  {
   "cell_type": "code",
   "execution_count": 7,
   "metadata": {
    "collapsed": false
   },
   "outputs": [
    {
     "data": {
      "text/plain": [
       "(0, 34)"
      ]
     },
     "execution_count": 7,
     "metadata": {},
     "output_type": "execute_result"
    }
   ],
   "source": [
    "filteredData.shape"
   ]
  },
  {
   "cell_type": "code",
   "execution_count": 11,
   "metadata": {
    "collapsed": false
   },
   "outputs": [
    {
     "data": {
      "text/html": [
       "<div style=\"width:100%;\"><div style=\"position:relative;width:100%;height:0;padding-bottom:60%;\"><iframe src=\"data:text/html;charset=utf-8;base64,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\" style=\"position:absolute;width:100%;height:100%;left:0;top:0;border:none !important;\" allowfullscreen webkitallowfullscreen mozallowfullscreen></iframe></div></div>"
      ],
      "text/plain": [
       "<folium.folium.Map at 0x10fd0f8d0>"
      ]
     },
     "execution_count": 11,
     "metadata": {},
     "output_type": "execute_result"
    }
   ],
   "source": [
    "my_popup_html=\"\"\"\n",
    "  <!DOCTYPE html>\n",
    "  <html><head>\n",
    "  <style>\n",
    "    table {{ width: 100%;}}\n",
    "    \n",
    "    table, th, td {{\n",
    "      border: 1px solid black;\n",
    "      border-collapse: collapse;\n",
    "    }}\n",
    "\n",
    "    th, td {{\n",
    "      padding: 5px;\n",
    "      text-align: left;\n",
    "  }}\n",
    "  table#t01 tr:nth-child(odd) {{\n",
    "      background-color: #8e8;\n",
    "  }}\n",
    "  table#t01 tr:nth-child(even) {{\n",
    "     background-color:#fff;\n",
    "  }}\n",
    "  </style>\n",
    "  </head>\n",
    "  <body>\n",
    "    <table id=\"t01\">\n",
    "      <tr> <td>Country</td> <td>{country}</td> </tr>\n",
    "      <tr> <td>Location</td> <td>{nearest_places}</td> </tr>\n",
    "      <tr> <td>date</td> <td>{date}</td></tr>\n",
    "      <tr> <td>Landslide type</td> <td>{landslide_type}</td></tr>\n",
    "      <tr> <td>Trigger</td> <td>{trigger}</td> </tr>\n",
    "      <tr> <td>Fatalities</td> <td>{fatalities}</td> </tr>\n",
    "      <tr> <td>Landslide size</td> <td>{landslide_size}</td></tr>\n",
    "      <tr> <td>Latitude</td> <td>{latitude}</td></tr>\n",
    "      <tr> <td>Longitude</td> <td>{longitude}</td></tr>\n",
    "    </table>\n",
    "    \n",
    "  </body>\n",
    "  </html>\n",
    "  \"\"\"\n",
    "\n",
    "\n",
    "\n",
    "for _,row in filteredData.iterrows():\n",
    "    temp = dict()\n",
    "    temp['country'] = str(row['country'])\n",
    "    temp['nearest_places'] = str(row['nearest_places'])\n",
    "    temp['date'] = str(row['date'])\n",
    "    temp['landslide_type'] = str(row['landslide_type'])\n",
    "    temp['trigger'] = str(row['trigger'])\n",
    "    temp['fatalities'] = str(row['fatalities'])\n",
    "    temp['landslide_size'] = str(row['landslide_size'])\n",
    "    temp['latitude'] = str(row['latitude'])\n",
    "    temp['longitude'] = str(row['longitude'])\n",
    "    \n",
    "    tableFrame = folium.IFrame(html=my_popup_html.format(**temp), width = 500, height=300)\n",
    "    popupTable = folium.Popup(tableFrame,max_width=500)\n",
    "    \n",
    "    folium.CircleMarker(\n",
    "          location = [row[\"latitude\"], row[\"longitude\"]],  \n",
    "          radius   = 5,\n",
    "          fill_color = \"Brown\",\n",
    "          popup = popupTable\n",
    "      ).add_to(landslide_map)\n",
    "    \n",
    "landslide_map"
   ]
  },
  {
   "cell_type": "code",
   "execution_count": null,
   "metadata": {
    "collapsed": true
   },
   "outputs": [],
   "source": []
  }
 ],
 "metadata": {
  "kernelspec": {
   "display_name": "Python 2",
   "language": "python",
   "name": "python2"
  },
  "language_info": {
   "codemirror_mode": {
    "name": "ipython",
    "version": 2
   },
   "file_extension": ".py",
   "mimetype": "text/x-python",
   "name": "python",
   "nbconvert_exporter": "python",
   "pygments_lexer": "ipython2",
   "version": "2.7.13"
  }
 },
 "nbformat": 4,
 "nbformat_minor": 2
}
